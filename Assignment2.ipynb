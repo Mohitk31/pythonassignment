{
 "cells": [
  {
   "cell_type": "markdown",
   "id": "681fd2a6",
   "metadata": {},
   "source": [
    "# Assignment 2"
   ]
  },
  {
   "cell_type": "markdown",
   "id": "2f364600",
   "metadata": {},
   "source": [
    "Ques1.What are the two values of the Boolean data type? How do you write them?\n",
    "\n",
    "Answer:\n",
    "Two values of Boolean data type are True or False. Generally denoted by True or false only.\n"
   ]
  },
  {
   "cell_type": "markdown",
   "id": "b3a4c727",
   "metadata": {},
   "source": [
    "Ques2. What are the three different types of Boolean operators?\n",
    "\n",
    "\n",
    "Answer :\n",
    "Three different type of Boolean operators are AND , OR and NOT.\n"
   ]
  },
  {
   "cell_type": "markdown",
   "id": "17167894",
   "metadata": {},
   "source": [
    "Ques3. Make a list of each Boolean operator's truth tables (i.e. every possible combination of Boolean values for the operator and what it evaluate ).\n",
    "\n",
    "Answer:\n",
    "\n",
    "True and True is True.\n",
    "\n",
    "True and False is False.\n",
    "\n",
    "False and True is False.\n",
    "\n",
    "False and False is False.\n",
    "\n",
    "True or True is True.\n",
    "\n",
    "True or False is True.\n",
    "\n",
    "False or True is True.\n",
    "\n",
    "False or False is False.\n",
    "\n",
    "not True is False.\n",
    "\n",
    "not False is True.\n"
   ]
  },
  {
   "cell_type": "markdown",
   "id": "b47500f4",
   "metadata": {},
   "source": [
    "Ques4. What are the values of the following expressions?\n"
   ]
  },
  {
   "cell_type": "code",
   "execution_count": 2,
   "id": "85ec2dd6",
   "metadata": {},
   "outputs": [
    {
     "name": "stdout",
     "output_type": "stream",
     "text": [
      "False\n",
      "False\n",
      "True\n",
      "False\n",
      "False\n",
      "True\n"
     ]
    }
   ],
   "source": [
    "print((5 > 4) and (3 == 5))\n",
    "print(not (5 > 4))\n",
    "print((5 > 4) or (3 == 5))\n",
    "print(not ((5 > 4) or (3 == 5)))\n",
    "print((True and True) and (True == False))\n",
    "print((not False) or (not True))\n"
   ]
  },
  {
   "cell_type": "markdown",
   "id": "87cf8bf7",
   "metadata": {},
   "source": [
    "Ques5. What are the six comparison operators?\n",
    "\n",
    "Answer:\n",
    " 6 Operators are: == , !=,<,>,<=,>=\n"
   ]
  },
  {
   "cell_type": "markdown",
   "id": "0f2823a4",
   "metadata": {},
   "source": [
    "Ques6. How do you tell the difference between the equal to and assignment operators?Describe a condition and when you would use one.\n",
    "\n",
    "Answer:\n",
    "    \n",
    "“=” operator use to assign value to a variable while assignment operators can be used for various reasons.\n"
   ]
  },
  {
   "cell_type": "code",
   "execution_count": 4,
   "id": "1943207a",
   "metadata": {},
   "outputs": [],
   "source": [
    "#to assign a value we are going to use assignment operator(=)\n",
    "a=10\n",
    "b=20\n",
    "c=23"
   ]
  },
  {
   "cell_type": "code",
   "execution_count": 5,
   "id": "b4dba867",
   "metadata": {},
   "outputs": [
    {
     "name": "stdout",
     "output_type": "stream",
     "text": [
      "10\n",
      "20\n",
      "23\n"
     ]
    }
   ],
   "source": [
    "print(a)\n",
    "print(b)\n",
    "print(c)"
   ]
  },
  {
   "cell_type": "code",
   "execution_count": 6,
   "id": "dfe33c7f",
   "metadata": {
    "scrolled": true
   },
   "outputs": [
    {
     "name": "stdout",
     "output_type": "stream",
     "text": [
      "value is 34\n"
     ]
    }
   ],
   "source": [
    "#to compare a value we use == operator\n",
    "a=34\n",
    "if a==34:\n",
    "    print('value is 34')\n",
    "else:\n",
    "    print('this is not 34')"
   ]
  },
  {
   "cell_type": "markdown",
   "id": "fffc2c86",
   "metadata": {},
   "source": [
    "Ques7. Identify the three blocks in this code:"
   ]
  },
  {
   "cell_type": "code",
   "execution_count": 8,
   "id": "1b249bc3",
   "metadata": {},
   "outputs": [
    {
     "name": "stdout",
     "output_type": "stream",
     "text": [
      "ham\n",
      "spam\n",
      "spam\n"
     ]
    }
   ],
   "source": [
    "\n",
    "spam = 0\n",
    "if spam == 10:\n",
    "    print('eggs')  #block1\n",
    "if spam > 5:\n",
    "    print('bacon')  #block2\n",
    "else:\n",
    "    print('ham')    #block3\n",
    "    print('spam')\n",
    "    print('spam')\n"
   ]
  },
  {
   "cell_type": "markdown",
   "id": "143e8de0",
   "metadata": {},
   "source": [
    "Ques8: Write code that prints Hello if 1 is stored in spam, prints Howdy if 2 is stored in spam, and prints Greetings! if anything else is stored in spam."
   ]
  },
  {
   "cell_type": "code",
   "execution_count": 11,
   "id": "321c5fb9",
   "metadata": {},
   "outputs": [],
   "source": [
    "\n",
    "def func(spam):\n",
    "    if spam==1:\n",
    "        print('spam')\n",
    "    elif spam==2:\n",
    "        print('Howdy')\n",
    "    else:\n",
    "        print(\"Greetings!\")"
   ]
  },
  {
   "cell_type": "code",
   "execution_count": 12,
   "id": "c290e30e",
   "metadata": {},
   "outputs": [
    {
     "name": "stdout",
     "output_type": "stream",
     "text": [
      "spam\n",
      "Howdy\n",
      "Greetings!\n"
     ]
    }
   ],
   "source": [
    "func(1)\n",
    "func(2)\n",
    "func(5)"
   ]
  },
  {
   "cell_type": "markdown",
   "id": "9b478461",
   "metadata": {},
   "source": [
    "Ques9. If your programme is stuck in an endless loop, what keys you’ll press?\n",
    "\n",
    "Answer: if our programme is stuck in endless loop, we will press ctrl+c\n"
   ]
  },
  {
   "cell_type": "markdown",
   "id": "f049931a",
   "metadata": {},
   "source": [
    "Ques10. How can you tell the difference between break and continue?\n",
    "\n",
    "Answer: The break statement is primarily used as the exit statement, which helps in getting out from the current loop. On the other hand, the continue statement helps in jumping from the current loop iteration to the next loop."
   ]
  },
  {
   "cell_type": "markdown",
   "id": "93f524a3",
   "metadata": {},
   "source": [
    "Ques11: In a for loop, what is the difference between range(10), range(0, 10), and range(0, 10, 1)?\n",
    "\n",
    "Answer: There is no difference between in output of the given numbers. All of them has output as whole numbers from  0 to 9 and 10 is not included.\n"
   ]
  },
  {
   "cell_type": "markdown",
   "id": "e155ed0c",
   "metadata": {},
   "source": [
    "Ques 12. Write a short program that prints the numbers 1 to 10 using a for loop. Then write an equivalent program that prints the numbers 1 to 10 using a while loop."
   ]
  },
  {
   "cell_type": "code",
   "execution_count": 17,
   "id": "6b2f44fb",
   "metadata": {},
   "outputs": [
    {
     "name": "stdout",
     "output_type": "stream",
     "text": [
      "1\n",
      "2\n",
      "3\n",
      "4\n",
      "5\n",
      "6\n",
      "7\n",
      "8\n",
      "9\n",
      "10\n"
     ]
    }
   ],
   "source": [
    "#using for loop\n",
    "for i in range(1,11):\n",
    "    print(i)"
   ]
  },
  {
   "cell_type": "code",
   "execution_count": 18,
   "id": "4ed86975",
   "metadata": {},
   "outputs": [
    {
     "name": "stdout",
     "output_type": "stream",
     "text": [
      "1\n",
      "2\n",
      "3\n",
      "4\n",
      "5\n",
      "6\n",
      "7\n",
      "8\n",
      "9\n",
      "10\n"
     ]
    }
   ],
   "source": [
    "#using while loop\n",
    "i=1\n",
    "while i<=10:\n",
    "    print(i)\n",
    "    i+=1"
   ]
  },
  {
   "cell_type": "markdown",
   "id": "68dd28cb",
   "metadata": {},
   "source": [
    "Ques13. If you had a function named bacon() inside a module named spam, how would you call it after importing spam?"
   ]
  },
  {
   "cell_type": "markdown",
   "id": "a394974e",
   "metadata": {},
   "source": [
    "Answer: spam.bacon()"
   ]
  },
  {
   "cell_type": "code",
   "execution_count": null,
   "id": "ce37e64a",
   "metadata": {},
   "outputs": [],
   "source": []
  }
 ],
 "metadata": {
  "kernelspec": {
   "display_name": "Python 3 (ipykernel)",
   "language": "python",
   "name": "python3"
  },
  "language_info": {
   "codemirror_mode": {
    "name": "ipython",
    "version": 3
   },
   "file_extension": ".py",
   "mimetype": "text/x-python",
   "name": "python",
   "nbconvert_exporter": "python",
   "pygments_lexer": "ipython3",
   "version": "3.9.12"
  }
 },
 "nbformat": 4,
 "nbformat_minor": 5
}
